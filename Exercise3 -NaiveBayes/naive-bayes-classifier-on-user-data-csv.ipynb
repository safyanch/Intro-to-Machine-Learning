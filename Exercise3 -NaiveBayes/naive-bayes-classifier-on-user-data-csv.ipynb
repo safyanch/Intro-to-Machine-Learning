{
 "cells": [
  {
   "cell_type": "code",
   "execution_count": 1,
   "id": "8d1d525c",
   "metadata": {
    "execution": {
     "iopub.execute_input": "2022-12-03T08:18:43.028574Z",
     "iopub.status.busy": "2022-12-03T08:18:43.026795Z",
     "iopub.status.idle": "2022-12-03T08:18:44.289679Z",
     "shell.execute_reply": "2022-12-03T08:18:44.287874Z"
    },
    "papermill": {
     "duration": 1.274816,
     "end_time": "2022-12-03T08:18:44.293167",
     "exception": false,
     "start_time": "2022-12-03T08:18:43.018351",
     "status": "completed"
    },
    "tags": []
   },
   "outputs": [],
   "source": [
    "# Importing the libraries\n",
    "\n",
    "import numpy as np\n",
    "import matplotlib.pyplot as plt\n",
    "import pandas as pd\n",
    "import seaborn as sns"
   ]
  },
  {
   "cell_type": "code",
   "execution_count": 2,
   "id": "ebf7de79",
   "metadata": {
    "execution": {
     "iopub.execute_input": "2022-12-03T08:18:44.305837Z",
     "iopub.status.busy": "2022-12-03T08:18:44.305388Z",
     "iopub.status.idle": "2022-12-03T08:18:44.325501Z",
     "shell.execute_reply": "2022-12-03T08:18:44.324275Z"
    },
    "papermill": {
     "duration": 0.029855,
     "end_time": "2022-12-03T08:18:44.328724",
     "exception": false,
     "start_time": "2022-12-03T08:18:44.298869",
     "status": "completed"
    },
    "tags": []
   },
   "outputs": [],
   "source": [
    "# Importing the datasets\n",
    "\n",
    "df = pd.read_csv('../input/user-data/User_Data.csv')"
   ]
  },
  {
   "cell_type": "code",
   "execution_count": 3,
   "id": "fb9fe5ed",
   "metadata": {
    "execution": {
     "iopub.execute_input": "2022-12-03T08:18:44.339158Z",
     "iopub.status.busy": "2022-12-03T08:18:44.338746Z",
     "iopub.status.idle": "2022-12-03T08:18:44.365332Z",
     "shell.execute_reply": "2022-12-03T08:18:44.364144Z"
    },
    "papermill": {
     "duration": 0.035044,
     "end_time": "2022-12-03T08:18:44.368137",
     "exception": false,
     "start_time": "2022-12-03T08:18:44.333093",
     "status": "completed"
    },
    "tags": []
   },
   "outputs": [
    {
     "data": {
      "text/html": [
       "<div>\n",
       "<style scoped>\n",
       "    .dataframe tbody tr th:only-of-type {\n",
       "        vertical-align: middle;\n",
       "    }\n",
       "\n",
       "    .dataframe tbody tr th {\n",
       "        vertical-align: top;\n",
       "    }\n",
       "\n",
       "    .dataframe thead th {\n",
       "        text-align: right;\n",
       "    }\n",
       "</style>\n",
       "<table border=\"1\" class=\"dataframe\">\n",
       "  <thead>\n",
       "    <tr style=\"text-align: right;\">\n",
       "      <th></th>\n",
       "      <th>User ID</th>\n",
       "      <th>Gender</th>\n",
       "      <th>Age</th>\n",
       "      <th>EstimatedSalary</th>\n",
       "      <th>Purchased</th>\n",
       "    </tr>\n",
       "  </thead>\n",
       "  <tbody>\n",
       "    <tr>\n",
       "      <th>0</th>\n",
       "      <td>15624510</td>\n",
       "      <td>Male</td>\n",
       "      <td>19</td>\n",
       "      <td>19000</td>\n",
       "      <td>0</td>\n",
       "    </tr>\n",
       "    <tr>\n",
       "      <th>1</th>\n",
       "      <td>15810944</td>\n",
       "      <td>Male</td>\n",
       "      <td>35</td>\n",
       "      <td>20000</td>\n",
       "      <td>0</td>\n",
       "    </tr>\n",
       "    <tr>\n",
       "      <th>2</th>\n",
       "      <td>15668575</td>\n",
       "      <td>Female</td>\n",
       "      <td>26</td>\n",
       "      <td>43000</td>\n",
       "      <td>0</td>\n",
       "    </tr>\n",
       "    <tr>\n",
       "      <th>3</th>\n",
       "      <td>15603246</td>\n",
       "      <td>Female</td>\n",
       "      <td>27</td>\n",
       "      <td>57000</td>\n",
       "      <td>0</td>\n",
       "    </tr>\n",
       "    <tr>\n",
       "      <th>4</th>\n",
       "      <td>15804002</td>\n",
       "      <td>Male</td>\n",
       "      <td>19</td>\n",
       "      <td>76000</td>\n",
       "      <td>0</td>\n",
       "    </tr>\n",
       "    <tr>\n",
       "      <th>...</th>\n",
       "      <td>...</td>\n",
       "      <td>...</td>\n",
       "      <td>...</td>\n",
       "      <td>...</td>\n",
       "      <td>...</td>\n",
       "    </tr>\n",
       "    <tr>\n",
       "      <th>395</th>\n",
       "      <td>15691863</td>\n",
       "      <td>Female</td>\n",
       "      <td>46</td>\n",
       "      <td>41000</td>\n",
       "      <td>1</td>\n",
       "    </tr>\n",
       "    <tr>\n",
       "      <th>396</th>\n",
       "      <td>15706071</td>\n",
       "      <td>Male</td>\n",
       "      <td>51</td>\n",
       "      <td>23000</td>\n",
       "      <td>1</td>\n",
       "    </tr>\n",
       "    <tr>\n",
       "      <th>397</th>\n",
       "      <td>15654296</td>\n",
       "      <td>Female</td>\n",
       "      <td>50</td>\n",
       "      <td>20000</td>\n",
       "      <td>1</td>\n",
       "    </tr>\n",
       "    <tr>\n",
       "      <th>398</th>\n",
       "      <td>15755018</td>\n",
       "      <td>Male</td>\n",
       "      <td>36</td>\n",
       "      <td>33000</td>\n",
       "      <td>0</td>\n",
       "    </tr>\n",
       "    <tr>\n",
       "      <th>399</th>\n",
       "      <td>15594041</td>\n",
       "      <td>Female</td>\n",
       "      <td>49</td>\n",
       "      <td>36000</td>\n",
       "      <td>1</td>\n",
       "    </tr>\n",
       "  </tbody>\n",
       "</table>\n",
       "<p>400 rows × 5 columns</p>\n",
       "</div>"
      ],
      "text/plain": [
       "      User ID  Gender  Age  EstimatedSalary  Purchased\n",
       "0    15624510    Male   19            19000          0\n",
       "1    15810944    Male   35            20000          0\n",
       "2    15668575  Female   26            43000          0\n",
       "3    15603246  Female   27            57000          0\n",
       "4    15804002    Male   19            76000          0\n",
       "..        ...     ...  ...              ...        ...\n",
       "395  15691863  Female   46            41000          1\n",
       "396  15706071    Male   51            23000          1\n",
       "397  15654296  Female   50            20000          1\n",
       "398  15755018    Male   36            33000          0\n",
       "399  15594041  Female   49            36000          1\n",
       "\n",
       "[400 rows x 5 columns]"
      ]
     },
     "execution_count": 3,
     "metadata": {},
     "output_type": "execute_result"
    }
   ],
   "source": [
    "#viewing the dataset\n",
    "df"
   ]
  },
  {
   "cell_type": "code",
   "execution_count": 4,
   "id": "410e0bf3",
   "metadata": {
    "execution": {
     "iopub.execute_input": "2022-12-03T08:18:44.379580Z",
     "iopub.status.busy": "2022-12-03T08:18:44.378792Z",
     "iopub.status.idle": "2022-12-03T08:18:44.389297Z",
     "shell.execute_reply": "2022-12-03T08:18:44.387954Z"
    },
    "papermill": {
     "duration": 0.019123,
     "end_time": "2022-12-03T08:18:44.392001",
     "exception": false,
     "start_time": "2022-12-03T08:18:44.372878",
     "status": "completed"
    },
    "tags": []
   },
   "outputs": [
    {
     "data": {
      "text/plain": [
       "User ID            0\n",
       "Gender             0\n",
       "Age                0\n",
       "EstimatedSalary    0\n",
       "Purchased          0\n",
       "dtype: int64"
      ]
     },
     "execution_count": 4,
     "metadata": {},
     "output_type": "execute_result"
    }
   ],
   "source": [
    "df.isnull().sum()"
   ]
  },
  {
   "cell_type": "code",
   "execution_count": 5,
   "id": "6311a1c3",
   "metadata": {
    "execution": {
     "iopub.execute_input": "2022-12-03T08:18:44.404439Z",
     "iopub.status.busy": "2022-12-03T08:18:44.403754Z",
     "iopub.status.idle": "2022-12-03T08:18:44.409417Z",
     "shell.execute_reply": "2022-12-03T08:18:44.408449Z"
    },
    "papermill": {
     "duration": 0.015152,
     "end_time": "2022-12-03T08:18:44.412360",
     "exception": false,
     "start_time": "2022-12-03T08:18:44.397208",
     "status": "completed"
    },
    "tags": []
   },
   "outputs": [],
   "source": [
    "X = df.iloc[:, [2,3]].values\n",
    "Y = df.iloc[:, 4].values"
   ]
  },
  {
   "cell_type": "code",
   "execution_count": 6,
   "id": "dceebe18",
   "metadata": {
    "execution": {
     "iopub.execute_input": "2022-12-03T08:18:44.424833Z",
     "iopub.status.busy": "2022-12-03T08:18:44.424405Z",
     "iopub.status.idle": "2022-12-03T08:18:44.634858Z",
     "shell.execute_reply": "2022-12-03T08:18:44.633492Z"
    },
    "papermill": {
     "duration": 0.220278,
     "end_time": "2022-12-03T08:18:44.638275",
     "exception": false,
     "start_time": "2022-12-03T08:18:44.417997",
     "status": "completed"
    },
    "tags": []
   },
   "outputs": [],
   "source": [
    "# Splitting the dataset into the Training set and Test set\n",
    "\n",
    "from sklearn.model_selection import train_test_split\n",
    "X_Train, X_Test, Y_Train, Y_Test = train_test_split(X, Y, test_size = 0.25, random_state = 0)"
   ]
  },
  {
   "cell_type": "code",
   "execution_count": 7,
   "id": "c5e3e427",
   "metadata": {
    "execution": {
     "iopub.execute_input": "2022-12-03T08:18:44.650055Z",
     "iopub.status.busy": "2022-12-03T08:18:44.649570Z",
     "iopub.status.idle": "2022-12-03T08:18:44.658078Z",
     "shell.execute_reply": "2022-12-03T08:18:44.656439Z"
    },
    "papermill": {
     "duration": 0.017512,
     "end_time": "2022-12-03T08:18:44.660730",
     "exception": false,
     "start_time": "2022-12-03T08:18:44.643218",
     "status": "completed"
    },
    "tags": []
   },
   "outputs": [],
   "source": [
    "# Feature Scaling\n",
    "\n",
    "from sklearn.preprocessing import StandardScaler\n",
    "sc_X = StandardScaler()\n",
    "X_Train = sc_X.fit_transform(X_Train)\n",
    "X_Test = sc_X.transform(X_Test)"
   ]
  },
  {
   "cell_type": "code",
   "execution_count": 8,
   "id": "383ead10",
   "metadata": {
    "execution": {
     "iopub.execute_input": "2022-12-03T08:18:44.672731Z",
     "iopub.status.busy": "2022-12-03T08:18:44.672230Z",
     "iopub.status.idle": "2022-12-03T08:18:44.687025Z",
     "shell.execute_reply": "2022-12-03T08:18:44.686028Z"
    },
    "papermill": {
     "duration": 0.023707,
     "end_time": "2022-12-03T08:18:44.689362",
     "exception": false,
     "start_time": "2022-12-03T08:18:44.665655",
     "status": "completed"
    },
    "tags": []
   },
   "outputs": [
    {
     "data": {
      "text/plain": [
       "GaussianNB()"
      ]
     },
     "execution_count": 8,
     "metadata": {},
     "output_type": "execute_result"
    }
   ],
   "source": [
    "# Fitting the Logistic Regression into the Training set\n",
    "\n",
    "from sklearn.naive_bayes import GaussianNB\n",
    "classifier = GaussianNB()\n",
    "classifier.fit(X_Train, Y_Train)"
   ]
  },
  {
   "cell_type": "code",
   "execution_count": 9,
   "id": "f210c56b",
   "metadata": {
    "execution": {
     "iopub.execute_input": "2022-12-03T08:18:44.701546Z",
     "iopub.status.busy": "2022-12-03T08:18:44.700297Z",
     "iopub.status.idle": "2022-12-03T08:18:44.709200Z",
     "shell.execute_reply": "2022-12-03T08:18:44.707621Z"
    },
    "papermill": {
     "duration": 0.017415,
     "end_time": "2022-12-03T08:18:44.711537",
     "exception": false,
     "start_time": "2022-12-03T08:18:44.694122",
     "status": "completed"
    },
    "tags": []
   },
   "outputs": [
    {
     "data": {
      "text/plain": [
       "array([0, 0, 0, 0, 0, 0, 0, 1, 0, 1, 0, 0, 0, 0, 0, 0, 0, 0, 1, 0, 0, 1,\n",
       "       0, 1, 0, 1, 0, 0, 0, 0, 0, 0, 1, 0, 0, 0, 0, 0, 0, 1, 0, 0, 0, 0,\n",
       "       1, 0, 0, 1, 0, 1, 1, 0, 0, 1, 1, 0, 0, 0, 1, 0, 0, 1, 0, 0, 0, 1,\n",
       "       0, 0, 0, 0, 1, 0, 0, 0, 0, 0, 0, 0, 1, 1, 1, 1, 0, 0, 1, 0, 0, 1,\n",
       "       0, 0, 0, 1, 0, 0, 0, 0, 0, 1, 1, 1])"
      ]
     },
     "execution_count": 9,
     "metadata": {},
     "output_type": "execute_result"
    }
   ],
   "source": [
    "# Predicting the test set results\n",
    "\n",
    "Y_Pred = classifier.predict(X_Test)\n",
    "Y_Pred"
   ]
  },
  {
   "cell_type": "code",
   "execution_count": 10,
   "id": "673d4412",
   "metadata": {
    "execution": {
     "iopub.execute_input": "2022-12-03T08:18:44.723414Z",
     "iopub.status.busy": "2022-12-03T08:18:44.722885Z",
     "iopub.status.idle": "2022-12-03T08:18:44.733812Z",
     "shell.execute_reply": "2022-12-03T08:18:44.732767Z"
    },
    "papermill": {
     "duration": 0.019551,
     "end_time": "2022-12-03T08:18:44.735980",
     "exception": false,
     "start_time": "2022-12-03T08:18:44.716429",
     "status": "completed"
    },
    "tags": []
   },
   "outputs": [
    {
     "data": {
      "text/plain": [
       "array([[65,  3],\n",
       "       [ 7, 25]])"
      ]
     },
     "execution_count": 10,
     "metadata": {},
     "output_type": "execute_result"
    }
   ],
   "source": [
    "# Making the Confusion Matrix \n",
    "\n",
    "from sklearn.metrics import confusion_matrix\n",
    "cm = confusion_matrix(Y_Test, Y_Pred)\n",
    "cm"
   ]
  },
  {
   "cell_type": "code",
   "execution_count": 11,
   "id": "91c585a6",
   "metadata": {
    "execution": {
     "iopub.execute_input": "2022-12-03T08:18:44.748584Z",
     "iopub.status.busy": "2022-12-03T08:18:44.747923Z",
     "iopub.status.idle": "2022-12-03T08:18:45.005145Z",
     "shell.execute_reply": "2022-12-03T08:18:45.004150Z"
    },
    "papermill": {
     "duration": 0.266588,
     "end_time": "2022-12-03T08:18:45.007859",
     "exception": false,
     "start_time": "2022-12-03T08:18:44.741271",
     "status": "completed"
    },
    "tags": []
   },
   "outputs": [
    {
     "data": {
      "text/plain": [
       "<AxesSubplot:>"
      ]
     },
     "execution_count": 11,
     "metadata": {},
     "output_type": "execute_result"
    },
    {
     "data": {
      "image/png": "[encoded data removed]",
      "text/plain": [
       "<Figure size 432x288 with 2 Axes>"
      ]
     },
     "metadata": {
      "needs_background": "light"
     },
     "output_type": "display_data"
    }
   ],
   "source": [
    "# Heatmap of Confusion matrix\n",
    "sns.heatmap(pd.DataFrame(cm), annot=True)"
   ]
  },
  {
   "cell_type": "code",
   "execution_count": 12,
   "id": "783005a5",
   "metadata": {
    "execution": {
     "iopub.execute_input": "2022-12-03T08:18:45.021163Z",
     "iopub.status.busy": "2022-12-03T08:18:45.020564Z",
     "iopub.status.idle": "2022-12-03T08:18:45.025413Z",
     "shell.execute_reply": "2022-12-03T08:18:45.024055Z"
    },
    "papermill": {
     "duration": 0.014521,
     "end_time": "2022-12-03T08:18:45.028084",
     "exception": false,
     "start_time": "2022-12-03T08:18:45.013563",
     "status": "completed"
    },
    "tags": []
   },
   "outputs": [],
   "source": [
    "from sklearn.metrics import accuracy_score"
   ]
  },
  {
   "cell_type": "code",
   "execution_count": 13,
   "id": "3cc4595a",
   "metadata": {
    "execution": {
     "iopub.execute_input": "2022-12-03T08:18:45.041299Z",
     "iopub.status.busy": "2022-12-03T08:18:45.040864Z",
     "iopub.status.idle": "2022-12-03T08:18:45.051453Z",
     "shell.execute_reply": "2022-12-03T08:18:45.050145Z"
    },
    "papermill": {
     "duration": 0.020137,
     "end_time": "2022-12-03T08:18:45.053994",
     "exception": false,
     "start_time": "2022-12-03T08:18:45.033857",
     "status": "completed"
    },
    "tags": []
   },
   "outputs": [
    {
     "data": {
      "text/plain": [
       "0.9"
      ]
     },
     "execution_count": 13,
     "metadata": {},
     "output_type": "execute_result"
    }
   ],
   "source": [
    "accuracy =accuracy_score(Y_Test, Y_Pred)\n",
    "accuracy"
   ]
  },
  {
   "cell_type": "code",
   "execution_count": null,
   "id": "496e63d8",
   "metadata": {
    "papermill": {
     "duration": 0.005198,
     "end_time": "2022-12-03T08:18:45.064967",
     "exception": false,
     "start_time": "2022-12-03T08:18:45.059769",
     "status": "completed"
    },
    "tags": []
   },
   "outputs": [],
   "source": []
  },
  {
   "cell_type": "code",
   "execution_count": null,
   "id": "fbcbb1e9",
   "metadata": {
    "papermill": {
     "duration": 0.005289,
     "end_time": "2022-12-03T08:18:45.075627",
     "exception": false,
     "start_time": "2022-12-03T08:18:45.070338",
     "status": "completed"
    },
    "tags": []
   },
   "outputs": [],
   "source": []
  }
 ],
 "metadata": {
  "kernelspec": {
   "display_name": "Python 3",
   "language": "python",
   "name": "python3"
  },
  "language_info": {
   "codemirror_mode": {
    "name": "ipython",
    "version": 3
   },
   "file_extension": ".py",
   "mimetype": "text/x-python",
   "name": "python",
   "nbconvert_exporter": "python",
   "pygments_lexer": "ipython3",
   "version": "3.7.12"
  },
  "papermill": {
   "default_parameters": {},
   "duration": 13.512213,
   "end_time": "2022-12-03T08:18:46.207188",
   "environment_variables": {},
   "exception": null,
   "input_path": "__notebook__.ipynb",
   "output_path": "__notebook__.ipynb",
   "parameters": {},
   "start_time": "2022-12-03T08:18:32.694975",
   "version": "2.3.4"
  }
 },
 "nbformat": 4,
 "nbformat_minor": 5
}
